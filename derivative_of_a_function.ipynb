{
  "nbformat": 4,
  "nbformat_minor": 0,
  "metadata": {
    "colab": {
      "provenance": [],
      "authorship_tag": "ABX9TyNab3SU2KO4lhqz4H9928z9",
      "include_colab_link": true
    },
    "kernelspec": {
      "name": "python3",
      "display_name": "Python 3"
    },
    "language_info": {
      "name": "python"
    }
  },
  "cells": [
    {
      "cell_type": "markdown",
      "metadata": {
        "id": "view-in-github",
        "colab_type": "text"
      },
      "source": [
        "<a href=\"https://colab.research.google.com/github/Hima-232bindhu/crt-0104/blob/main/derivative_of_a_function.ipynb\" target=\"_parent\"><img src=\"https://colab.research.google.com/assets/colab-badge.svg\" alt=\"Open In Colab\"/></a>"
      ]
    },
    {
      "cell_type": "code",
      "execution_count": 1,
      "metadata": {
        "colab": {
          "base_uri": "https://localhost:8080/"
        },
        "id": "ur6pfW9RhN4e",
        "outputId": "455761ec-874b-446f-dbd5-90b8dcc97056"
      },
      "outputs": [
        {
          "output_type": "stream",
          "name": "stdout",
          "text": [
            "Original function: x**2 + 3*x + 5\n",
            "Derivative function: 2*x + 3\n"
          ]
        }
      ],
      "source": [
        "import sympy as sp\n",
        "def calculate_derivative():\n",
        "\n",
        " x = sp.symbols('x')\n",
        " function = x**2 + 3*x + 5\n",
        "\n",
        " derivative = sp.diff(function, x)\n",
        " return function, derivative\n",
        "\n",
        "original_function, derivative_function = calculate_derivative()\n",
        "\n",
        "print(f\"Original function: {original_function}\")\n",
        "print(f\"Derivative function: {derivative_function}\")"
      ]
    }
  ]
}