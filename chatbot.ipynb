{
  "nbformat": 4,
  "nbformat_minor": 0,
  "metadata": {
    "colab": {
      "provenance": [],
      "authorship_tag": "ABX9TyOi3XmjUBIBLgL4528h5th4",
      "include_colab_link": true
    },
    "kernelspec": {
      "name": "python3",
      "display_name": "Python 3"
    },
    "language_info": {
      "name": "python"
    }
  },
  "cells": [
    {
      "cell_type": "markdown",
      "metadata": {
        "id": "view-in-github",
        "colab_type": "text"
      },
      "source": [
        "<a href=\"https://colab.research.google.com/github/Hima-232bindhu/crt-0104/blob/main/chatbot.ipynb\" target=\"_parent\"><img src=\"https://colab.research.google.com/assets/colab-badge.svg\" alt=\"Open In Colab\"/></a>"
      ]
    },
    {
      "cell_type": "code",
      "execution_count": 1,
      "metadata": {
        "colab": {
          "base_uri": "https://localhost:8080/"
        },
        "id": "kW6Kr0EHbyi-",
        "outputId": "3b6ce55c-2779-41c7-c789-7ae2bcfab9f3"
      },
      "outputs": [
        {
          "name": "stdout",
          "output_type": "stream",
          "text": [
            "ertfygj\n"
          ]
        }
      ],
      "source": [
        "x= input()"
      ]
    },
    {
      "cell_type": "code",
      "source": [
        "end_words = ['esc','stop','exit','quit']"
      ],
      "metadata": {
        "id": "ff5rnIoqcJY9"
      },
      "execution_count": 3,
      "outputs": []
    },
    {
      "cell_type": "code",
      "source": [
        "def lowercase(sentence):\n",
        "    return sentence.lower()\n"
      ],
      "metadata": {
        "id": "jKpNGON5cu_-"
      },
      "execution_count": 4,
      "outputs": []
    },
    {
      "cell_type": "code",
      "source": [
        "strings = '1'\n",
        "x = lowercase(strings)\n",
        "x"
      ],
      "metadata": {
        "colab": {
          "base_uri": "https://localhost:8080/",
          "height": 35
        },
        "id": "7_nqBEdkdEk-",
        "outputId": "e974fdf6-6b8f-4a45-a4a3-f1bf90ae58b6"
      },
      "execution_count": 6,
      "outputs": [
        {
          "output_type": "execute_result",
          "data": {
            "text/plain": [
              "'1'"
            ],
            "application/vnd.google.colaboratory.intrinsic+json": {
              "type": "string"
            }
          },
          "metadata": {},
          "execution_count": 6
        }
      ]
    },
    {
      "cell_type": "code",
      "source": [
        " x = input(\"Enter Text:\")\n",
        "while x not in end_words:\n",
        "    choice = input(\"choice 1 or 2\")\n",
        "    if choice == '1':\n",
        "      print(lowercase(x))\n",
        "    elif choice == '2':\n",
        "      print(uppercaseercase(x))\n",
        "    else:\n",
        "      print('invalid choice')\n",
        "    x = input(\"Enter Text:\")"
      ],
      "metadata": {
        "colab": {
          "base_uri": "https://localhost:8080/"
        },
        "id": "0A0cTH_beEcw",
        "outputId": "c357209c-eb92-4c5e-846d-e4b51c9dcc3c"
      },
      "execution_count": 16,
      "outputs": [
        {
          "name": "stdout",
          "output_type": "stream",
          "text": [
            "Enter Text:hii i am hima bindhu\n",
            "choice 1 or 21\n",
            "hii i am hima bindhu\n",
            "Enter Text:2\n",
            "choice 1 or 2hiii i am hima bindhu\n",
            "invalid choice\n",
            "Enter Text:exit\n"
          ]
        }
      ]
    },
    {
      "cell_type": "code",
      "source": [
        "x = input(\"Enter Text:\")\n",
        "while x not in end_words:\n",
        "    choice = input(\"choice 1, 2, or 3: \")\n",
        "    if choice == '1':\n",
        "        print(lowercase(x)) # Calls lowercase function\n",
        "    elif choice == '2':\n",
        "        print(x.upper()) # Calls built-in upper method\n",
        "    elif choice == '3':\n",
        "        print(x.capitalize())  # Added a new choice for capitalization\n",
        "    else:\n",
        "        print('invalid choice')\n",
        "    x = input()"
      ],
      "metadata": {
        "colab": {
          "base_uri": "https://localhost:8080/"
        },
        "id": "gUXXOwcLf3Jr",
        "outputId": "a1cc9d05-4138-4b6f-a4e6-bf2ae1c6762f"
      },
      "execution_count": 13,
      "outputs": [
        {
          "name": "stdout",
          "output_type": "stream",
          "text": [
            "Enter Text:hello\n",
            "choice 1, 2, or 3: 3\n",
            "Hello\n",
            "hello\n",
            "choice 1, 2, or 3: 2\n",
            "HELLO\n",
            "exit\n"
          ]
        }
      ]
    },
    {
      "cell_type": "code",
      "source": [
        "x = input(\"Enter Text:\")\n",
        "while x not in end_words:\n",
        "    choice = input(\"choice 1, 2, 3, or 4: \")\n",
        "    if choice == '1':\n",
        "        print(lowercase(x)) # Calls lowercase function\n",
        "    elif choice == '2':\n",
        "        print(x.upper()) # Calls built-in upper method\n",
        "    elif choice == '3':\n",
        "        print(x.capitalize())  # Added a new choice for capitalization\n",
        "    elif choice == '4':\n",
        "        print(x[::-1])  # Added a new choice to reverse the string\n",
        "    else:\n",
        "        print('invalid choice')\n",
        "    x = input()"
      ],
      "metadata": {
        "colab": {
          "base_uri": "https://localhost:8080/"
        },
        "id": "EcTfxjyahQzZ",
        "outputId": "7b6e2d8e-86de-432b-8e10-9325c4c71b4e"
      },
      "execution_count": 15,
      "outputs": [
        {
          "name": "stdout",
          "output_type": "stream",
          "text": [
            "Enter Text:hi , how are you \n",
            "choice 1, 2, 3, or 4: 3\n",
            "Hi , how are you \n",
            "4\n",
            "choice 1, 2, 3, or 4: 4\n",
            "4\n",
            "hii how are you\n",
            "choice 1, 2, 3, or 4: 4\n",
            "uoy era woh iih\n",
            "exit\n"
          ]
        }
      ]
    }
  ]
}