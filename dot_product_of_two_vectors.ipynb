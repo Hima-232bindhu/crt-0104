{
  "nbformat": 4,
  "nbformat_minor": 0,
  "metadata": {
    "colab": {
      "provenance": [],
      "authorship_tag": "ABX9TyPFtwqqRhJ0EGIrRBgpyWxi",
      "include_colab_link": true
    },
    "kernelspec": {
      "name": "python3",
      "display_name": "Python 3"
    },
    "language_info": {
      "name": "python"
    }
  },
  "cells": [
    {
      "cell_type": "markdown",
      "metadata": {
        "id": "view-in-github",
        "colab_type": "text"
      },
      "source": [
        "<a href=\"https://colab.research.google.com/github/Hima-232bindhu/crt-0104/blob/main/dot_product_of_two_vectors.ipynb\" target=\"_parent\"><img src=\"https://colab.research.google.com/assets/colab-badge.svg\" alt=\"Open In Colab\"/></a>"
      ]
    },
    {
      "cell_type": "code",
      "execution_count": 1,
      "metadata": {
        "colab": {
          "base_uri": "https://localhost:8080/"
        },
        "id": "1xEwV_F8eC0A",
        "outputId": "f1e7d5bc-80fa-4bd4-b43e-9a191fb296b6"
      },
      "outputs": [
        {
          "output_type": "stream",
          "name": "stdout",
          "text": [
            "The dot product of [2, 3, 4] and [5, 6, 7] is: None\n"
          ]
        }
      ],
      "source": [
        "def dot_product(vector1, vector2):\n",
        "    if len(vector1) != len(vector2):\n",
        "        raise ValueError(\"Vectors must have the same length for dot product calculation.\")\n",
        "        result = sum(x * y for x, y in zip(vector1, vector2))\n",
        "        return result\n",
        "vector_a = [2, 3, 4]\n",
        "vector_b = [5, 6, 7]\n",
        "result_dot_product = dot_product(vector_a, vector_b)\n",
        "\n",
        "print(f\"The dot product of {vector_a} and {vector_b} is: {result_dot_product}\")"
      ]
    }
  ]
}