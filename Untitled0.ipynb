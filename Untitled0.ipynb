{
  "nbformat": 4,
  "nbformat_minor": 0,
  "metadata": {
    "colab": {
      "provenance": [],
      "authorship_tag": "ABX9TyM+VJgOwmQgW52OfUN6c1m+",
      "include_colab_link": true
    },
    "kernelspec": {
      "name": "python3",
      "display_name": "Python 3"
    },
    "language_info": {
      "name": "python"
    }
  },
  "cells": [
    {
      "cell_type": "markdown",
      "metadata": {
        "id": "view-in-github",
        "colab_type": "text"
      },
      "source": [
        "<a href=\"https://colab.research.google.com/github/Hima-232bindhu/crt-0104/blob/main/Untitled0.ipynb\" target=\"_parent\"><img src=\"https://colab.research.google.com/assets/colab-badge.svg\" alt=\"Open In Colab\"/></a>"
      ]
    },
    {
      "cell_type": "code",
      "execution_count": 1,
      "metadata": {
        "colab": {
          "base_uri": "https://localhost:8080/"
        },
        "id": "Nb9aGZVYPRzM",
        "outputId": "46455078-2795-42f8-c6ff-809ffa5dfed2"
      },
      "outputs": [
        {
          "output_type": "stream",
          "name": "stdout",
          "text": [
            "hi world\n"
          ]
        }
      ],
      "source": [
        "a = 'hello world'\n",
        "b = a.replace ('hello', 'hi')\n",
        "print(b)\n"
      ]
    },
    {
      "cell_type": "code",
      "source": [
        "a = '1234asa'\n",
        "b = a.isdigit()\n",
        "print(b)"
      ],
      "metadata": {
        "colab": {
          "base_uri": "https://localhost:8080/"
        },
        "id": "V_9OHXbIPdI9",
        "outputId": "edb30852-1068-4069-e42b-7ceb564796ef"
      },
      "execution_count": 2,
      "outputs": [
        {
          "output_type": "stream",
          "name": "stdout",
          "text": [
            "False\n"
          ]
        }
      ]
    },
    {
      "cell_type": "code",
      "source": [
        "a = range(10)\n",
        "print(a)"
      ],
      "metadata": {
        "colab": {
          "base_uri": "https://localhost:8080/"
        },
        "id": "wpo_eRqsP1-C",
        "outputId": "1e3e662b-fd0a-48fc-c8a8-ad2ab950b484"
      },
      "execution_count": 3,
      "outputs": [
        {
          "output_type": "stream",
          "name": "stdout",
          "text": [
            "range(0, 10)\n"
          ]
        }
      ]
    },
    {
      "cell_type": "code",
      "source": [
        "a = range(10)\n",
        "b = list(a)\n",
        "print(b)"
      ],
      "metadata": {
        "colab": {
          "base_uri": "https://localhost:8080/"
        },
        "id": "VWCVVapJP63s",
        "outputId": "743f241f-30c2-47c1-ec4b-042eb8168ad1"
      },
      "execution_count": 4,
      "outputs": [
        {
          "output_type": "stream",
          "name": "stdout",
          "text": [
            "[0, 1, 2, 3, 4, 5, 6, 7, 8, 9]\n"
          ]
        }
      ]
    },
    {
      "cell_type": "code",
      "source": [
        "#start, stop then steps\n",
        "my_list = list(range(5,15,2))\n",
        "print(my_list)"
      ],
      "metadata": {
        "colab": {
          "base_uri": "https://localhost:8080/"
        },
        "id": "L7jfAubwQGOl",
        "outputId": "020f91a0-0a60-426c-e724-ae92b8a172b9"
      },
      "execution_count": 5,
      "outputs": [
        {
          "output_type": "stream",
          "name": "stdout",
          "text": [
            "[5, 7, 9, 11, 13]\n"
          ]
        }
      ]
    },
    {
      "cell_type": "code",
      "source": [
        "def add_numbers (a,b):\n",
        "  result = a + b\n",
        "  return result\n",
        "\n",
        "result2 = add_numbers(10,2)\n",
        "print(result2)"
      ],
      "metadata": {
        "colab": {
          "base_uri": "https://localhost:8080/"
        },
        "id": "0I36BhByRWl9",
        "outputId": "323edb9c-f498-421e-f4f2-b642fb963927"
      },
      "execution_count": 8,
      "outputs": [
        {
          "output_type": "stream",
          "name": "stdout",
          "text": [
            "12\n",
            "12\n"
          ]
        }
      ]
    },
    {
      "cell_type": "code",
      "source": [
        "a = 'hello world'\n",
        "b = a.upper()\n",
        "print(b)"
      ],
      "metadata": {
        "colab": {
          "base_uri": "https://localhost:8080/"
        },
        "id": "tjOV6WbfSDpx",
        "outputId": "474ab61b-eb51-4d92-8082-e53289eee78d"
      },
      "execution_count": 7,
      "outputs": [
        {
          "output_type": "stream",
          "name": "stdout",
          "text": [
            "HELLO WORLD\n"
          ]
        }
      ]
    },
    {
      "cell_type": "code",
      "source": [
        "#function with *arg\n",
        "def calculate_sum(*args):\n",
        "  total = sum(args)\n",
        "  return total\n",
        "print(\"sum of 1,2,3,4 :\", calculate_sum(1,2,3,4))\n",
        "print(\"sum of 1,2,3,4,5 :\", calculate_sum(1,2,3,4,5))"
      ],
      "metadata": {
        "colab": {
          "base_uri": "https://localhost:8080/"
        },
        "id": "nCvRXKqnSyIe",
        "outputId": "74e197e8-ef75-4401-ca78-03ce18c34daa"
      },
      "execution_count": 11,
      "outputs": [
        {
          "output_type": "stream",
          "name": "stdout",
          "text": [
            "sum of 1,2,3,4 : 10\n",
            "sum of 1,2,3,4,5 : 15\n"
          ]
        }
      ]
    },
    {
      "cell_type": "code",
      "source": [
        "add = lambda x,y : x + y\n",
        "result = add(3,5)\n",
        "print(result)"
      ],
      "metadata": {
        "colab": {
          "base_uri": "https://localhost:8080/"
        },
        "id": "STxXEx4HUwXn",
        "outputId": "a8043f09-f56e-41bc-b51e-5d526db35485"
      },
      "execution_count": 12,
      "outputs": [
        {
          "output_type": "stream",
          "name": "stdout",
          "text": [
            "8\n"
          ]
        }
      ]
    },
    {
      "cell_type": "code",
      "source": [
        "add = lambda x, y : x + y\n",
        "result = add(3,5)\n",
        "print(result)"
      ],
      "metadata": {
        "id": "ELL6cgqsVqan",
        "outputId": "97c8c071-e7a6-4df2-b070-0cd2778eca88",
        "colab": {
          "base_uri": "https://localhost:8080/"
        }
      },
      "execution_count": 13,
      "outputs": [
        {
          "output_type": "stream",
          "name": "stdout",
          "text": [
            "8\n"
          ]
        }
      ]
    }
  ]
}