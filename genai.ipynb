{
  "nbformat": 4,
  "nbformat_minor": 0,
  "metadata": {
    "colab": {
      "provenance": [],
      "mount_file_id": "1XF4_aaskBcYWrp3o5vFj5pZJtEdpyrKQ",
      "authorship_tag": "ABX9TyNeARKizo/V8uDYWc7Ck+Dh",
      "include_colab_link": true
    },
    "kernelspec": {
      "name": "python3",
      "display_name": "Python 3"
    },
    "language_info": {
      "name": "python"
    }
  },
  "cells": [
    {
      "cell_type": "markdown",
      "metadata": {
        "id": "view-in-github",
        "colab_type": "text"
      },
      "source": [
        "<a href=\"https://colab.research.google.com/github/Hima-232bindhu/crt-0104/blob/main/genai.ipynb\" target=\"_parent\"><img src=\"https://colab.research.google.com/assets/colab-badge.svg\" alt=\"Open In Colab\"/></a>"
      ]
    },
    {
      "cell_type": "code",
      "execution_count": null,
      "metadata": {
        "colab": {
          "base_uri": "https://localhost:8080/"
        },
        "id": "QgM0OCprZOqp",
        "outputId": "c88c5e81-8356-482b-8271-e7fdc4d64841"
      },
      "outputs": [
        {
          "output_type": "stream",
          "name": "stdout",
          "text": [
            "Requirement already satisfied: openai in /usr/local/lib/python3.11/dist-packages (1.97.1)\n",
            "Requirement already satisfied: anyio<5,>=3.5.0 in /usr/local/lib/python3.11/dist-packages (from openai) (4.9.0)\n",
            "Requirement already satisfied: distro<2,>=1.7.0 in /usr/local/lib/python3.11/dist-packages (from openai) (1.9.0)\n",
            "Requirement already satisfied: httpx<1,>=0.23.0 in /usr/local/lib/python3.11/dist-packages (from openai) (0.28.1)\n",
            "Requirement already satisfied: jiter<1,>=0.4.0 in /usr/local/lib/python3.11/dist-packages (from openai) (0.10.0)\n",
            "Requirement already satisfied: pydantic<3,>=1.9.0 in /usr/local/lib/python3.11/dist-packages (from openai) (2.11.7)\n",
            "Requirement already satisfied: sniffio in /usr/local/lib/python3.11/dist-packages (from openai) (1.3.1)\n",
            "Requirement already satisfied: tqdm>4 in /usr/local/lib/python3.11/dist-packages (from openai) (4.67.1)\n",
            "Requirement already satisfied: typing-extensions<5,>=4.11 in /usr/local/lib/python3.11/dist-packages (from openai) (4.14.1)\n",
            "Requirement already satisfied: idna>=2.8 in /usr/local/lib/python3.11/dist-packages (from anyio<5,>=3.5.0->openai) (3.10)\n",
            "Requirement already satisfied: certifi in /usr/local/lib/python3.11/dist-packages (from httpx<1,>=0.23.0->openai) (2025.7.14)\n",
            "Requirement already satisfied: httpcore==1.* in /usr/local/lib/python3.11/dist-packages (from httpx<1,>=0.23.0->openai) (1.0.9)\n",
            "Requirement already satisfied: h11>=0.16 in /usr/local/lib/python3.11/dist-packages (from httpcore==1.*->httpx<1,>=0.23.0->openai) (0.16.0)\n",
            "Requirement already satisfied: annotated-types>=0.6.0 in /usr/local/lib/python3.11/dist-packages (from pydantic<3,>=1.9.0->openai) (0.7.0)\n",
            "Requirement already satisfied: pydantic-core==2.33.2 in /usr/local/lib/python3.11/dist-packages (from pydantic<3,>=1.9.0->openai) (2.33.2)\n",
            "Requirement already satisfied: typing-inspection>=0.4.0 in /usr/local/lib/python3.11/dist-packages (from pydantic<3,>=1.9.0->openai) (0.4.1)\n"
          ]
        }
      ],
      "source": [
        "pip install openai\n"
      ]
    },
    {
      "cell_type": "markdown",
      "metadata": {
        "id": "b24a8b87"
      },
      "source": [
        "To use the OpenAI API, you'll need an API key. If you don't already have one, you can create one on the [OpenAI website](https://beta.openai.com/account/api-keys).\n",
        "\n",
        "In Colab, you can add your API key to the secrets manager under the \"🔑\" icon in the left panel. Name the secret `OPENAI_API_KEY`.\n",
        "\n",
        "Then, you can access it in your notebook like this:"
      ]
    },
    {
      "cell_type": "code",
      "metadata": {
        "colab": {
          "base_uri": "https://localhost:8080/"
        },
        "id": "590b32d0",
        "outputId": "5727eb0c-d30c-4e90-d9a5-da3d64860beb"
      },
      "source": [
        "import openai\n",
        "from google.colab import userdata\n",
        "\n",
        "# Retrieve the API key from Colab's secrets manager\n",
        "openai.api_key = userdata.get('OPENAI_API_KEY')\n",
        "\n",
        "if openai.api_key:\n",
        "    print(\"OpenAI API key loaded successfully.\")\n",
        "else:\n",
        "    print(\"OpenAI API key not found. Please add it to Colab's secrets manager.\")"
      ],
      "execution_count": null,
      "outputs": [
        {
          "output_type": "stream",
          "name": "stdout",
          "text": [
            "OpenAI API key loaded successfully.\n"
          ]
        }
      ]
    },
    {
      "cell_type": "code",
      "source": [
        "pip install pillow\n"
      ],
      "metadata": {
        "colab": {
          "base_uri": "https://localhost:8080/"
        },
        "id": "dKlm_9yAbP9J",
        "outputId": "eaa0665c-9cf6-4440-d5f5-ef7f0975e3e3"
      },
      "execution_count": null,
      "outputs": [
        {
          "output_type": "stream",
          "name": "stdout",
          "text": [
            "Requirement already satisfied: pillow in /usr/local/lib/python3.11/dist-packages (11.3.0)\n"
          ]
        }
      ]
    },
    {
      "cell_type": "code",
      "source": [
        "from PIL import Image, ImageDraw, ImageFont\n",
        "import PIL # Import PIL explicitly\n",
        "\n",
        "def generate_simple_logo(text=\"MyLogo\", bg_color=\"#1E90FF\", text_color=\"white\", image_path=None, font_path=\"arial.ttf\", font_size=60, style=\"simple\", background_image_path=None, text_effect=None):\n",
        "    width, height = 400, 200\n",
        "\n",
        "    if background_image_path:\n",
        "        try:\n",
        "            background_image = PIL.Image.open(background_image_path).convert(\"RGB\")\n",
        "            # Resize background image to fit the logo dimensions\n",
        "            image = background_image.resize((width, height))\n",
        "        except FileNotFoundError:\n",
        "            print(f\"Error: Background image file not found at {background_image_path}. Using solid background color.\")\n",
        "            image = PIL.Image.new(\"RGB\", (width, height), bg_color) # Use PIL.Image.new\n",
        "        except Exception as e:\n",
        "            print(f\"Error processing background image: {e}. Using solid background color.\")\n",
        "            image = PIL.Image.new(\"RGB\", (width, height), bg_color) # Use PIL.Image.new\n",
        "    else:\n",
        "        image = PIL.Image.new(\"RGB\", (width, height), bg_color) # Use PIL.Image.new\n",
        "\n",
        "\n",
        "    draw = ImageDraw.Draw(image)\n",
        "\n",
        "    try:\n",
        "        font = ImageFont.truetype(font_path, size=font_size)\n",
        "    except IOError:\n",
        "        print(f\"Warning: Font file not found at {font_path}. Using default font.\")\n",
        "        font = ImageFont.load_default()\n",
        "\n",
        "    # Use textbbox instead of textsize\n",
        "    bbox = draw.textbbox((0, 0), text, font=font)\n",
        "    text_width = bbox[2] - bbox[0]\n",
        "    text_height = bbox[3] - bbox[1]\n",
        "\n",
        "    text_position = ((width - text_width) // 2, (height - text_height) // 2)\n",
        "\n",
        "    # Apply text effect (basic example: outline)\n",
        "    if text_effect == \"outline\":\n",
        "        outline_color = \"black\"  # You can make this a parameter\n",
        "        outline_width = 2       # You can make this a parameter\n",
        "        # Draw outline\n",
        "        for x_offset in range(-outline_width, outline_width + 1):\n",
        "            for y_offset in range(-outline_width, outline_width + 1):\n",
        "                if x_offset != 0 or y_offset != 0:\n",
        "                    draw.text((text_position[0] + x_offset, text_position[1] + y_offset), text, font=font, fill=outline_color)\n",
        "\n",
        "\n",
        "    # Apply style (basic example)\n",
        "    if style == \"bold\":\n",
        "        # This is a simplified approach; true bolding depends on font support\n",
        "        draw.text((text_position[0] + 1, text_position[1]), text, font=font, fill=text_color)\n",
        "\n",
        "\n",
        "    draw.text(text_position, text, font=font, fill=text_color)\n",
        "\n",
        "    if image_path:\n",
        "        try:\n",
        "            overlay_image = PIL.Image.open(image_path).convert(\"RGBA\") # Use PIL.Image.open\n",
        "            # Resize the image if needed (optional)\n",
        "            overlay_image = overlay_image.resize((100, 100)) # Example resize\n",
        "            # Paste the image onto the logo (adjust position as needed)\n",
        "            image.paste(overlay_image, (50, 50), overlay_image)\n",
        "        except FileNotFoundError:\n",
        "            print(f\"Error: Image file not found at {image_path}\")\n",
        "        except Exception as e:\n",
        "            print(f\"Error processing image: {e}\")\n",
        "\n",
        "\n",
        "    image.save(\"generated_logo.png\")\n",
        "    print(\"Logo saved as 'generated_logo.png'\")\n",
        "\n",
        "# Example with image (replace 'your_image.png' with your image file)\n",
        "# generate_simple_logo(\"HB Tech\", \"#222222\", \"cyan\", image_path='your_image.png')\n",
        "\n",
        "# Example without image\n",
        "# generate_simple_logo(\"HB Tech\", \"#222222\", \"cyan\")"
      ],
      "metadata": {
        "id": "t0SO5m-EbUso"
      },
      "execution_count": null,
      "outputs": []
    },
    {
      "cell_type": "markdown",
      "metadata": {
        "id": "e6f2d2d4"
      },
      "source": [
        "Let's get some input from you to customize the logo. We'll ask for the text, background color, and text color."
      ]
    },
    {
      "cell_type": "code",
      "metadata": {
        "colab": {
          "base_uri": "https://localhost:8080/"
        },
        "id": "73237209",
        "outputId": "75ff94b7-5827-47b1-b6f1-5c9a90f95034"
      },
      "source": [
        "import os\n",
        "\n",
        "def get_logo_input():\n",
        "    logo_text = input(\"Enter the text for your logo: \")\n",
        "    bg_color = input(\"Enter the background color (e.g., #1E90FF or blue): \")\n",
        "    text_color = input(\"Enter the text color (e.g., white or #FFFFFF): \")\n",
        "    image_path = input(\"Enter the path to an overlay image file (optional, leave blank to skip): \")\n",
        "    background_image_path = input(\"Enter the path to a background image file (optional, leave blank for solid color): \")\n",
        "\n",
        "    # Basic Font Picker\n",
        "    print(\"\\nAvailable Fonts (or enter a path to your font file):\")\n",
        "    # List some common system fonts or fonts in the current directory\n",
        "    available_fonts = [\"arial.ttf\", \"Times New Roman.ttf\", \"Verdana.ttf\", \"Courier New.ttf\", \"Georgia.ttf\", \"Trebuchet MS.ttf\"] # Added more common fonts\n",
        "    for i, font_name in enumerate(available_fonts):\n",
        "        print(f\"{i+1}. {font_name}\")\n",
        "\n",
        "    font_choice = input(f\"Enter the number of your choice or a path to your font file (leave blank for default - arial.ttf): \")\n",
        "\n",
        "    if font_choice.isdigit() and int(font_choice) > 0 and int(font_choice) <= len(available_fonts):\n",
        "        font_path = available_fonts[int(font_choice) - 1]\n",
        "    elif font_choice:\n",
        "        font_path = font_choice # User provided a path\n",
        "    else:\n",
        "        font_path = \"arial.ttf\" # Default font\n",
        "\n",
        "\n",
        "    font_size_input = input(\"Enter the font size (e.g., 60, leave blank for default): \")\n",
        "    if not font_size_input:\n",
        "        font_size = 100 # Default size\n",
        "    else:\n",
        "        font_size = int(font_size_input) # Convert to integer\n",
        "\n",
        "    style = input(\"Enter a style (e.g., simple, bold - basic support, leave blank for simple): \")\n",
        "    if not style:\n",
        "        style = \"simple\" # Default style\n",
        "\n",
        "    text_effect = input(\"Enter a text effect (e.g., outline, shadow, leave blank for none): \")\n",
        "\n",
        "    # Basic Shape Input (for rectangles)\n",
        "    shapes = []\n",
        "    add_shape = input(\"Add a rectangle shape? (yes/no, leave blank for no): \").lower()\n",
        "    if add_shape == \"yes\":\n",
        "        try:\n",
        "            shape_color = input(\"Enter rectangle color (e.g., red or #FF0000): \")\n",
        "            shape_x = int(input(\"Enter top-left x coordinate for rectangle: \"))\n",
        "            shape_y = int(input(\"Enter top-left y coordinate for rectangle: \"))\n",
        "            shape_width = int(input(\"Enter rectangle width: \"))\n",
        "            shape_height = int(input(\"Enter rectangle height: \"))\n",
        "            shapes.append({\"type\": \"rectangle\", \"color\": shape_color, \"position\": (shape_x, shape_y), \"size\": (shape_width, shape_height)})\n",
        "        except ValueError:\n",
        "            print(\"Invalid input for shape parameters. Skipping shape.\")\n",
        "\n",
        "\n",
        "    return logo_text, bg_color, text_color, image_path, font_path, font_size, style, background_image_path, text_effect, shapes\n",
        "\n",
        "logo_text, bg_color, text_color, image_path, font_path, font_size, style, background_image_path, text_effect, shapes = get_logo_input()\n",
        "print(f\"\\nUsing Text: {logo_text}, Background Color: {bg_color}, Text Color: {text_color}\")\n",
        "if image_path:\n",
        "    print(f\"Using Overlay Image: {image_path}\")\n",
        "else:\n",
        "    print(\"No overlay image will be used.\")\n",
        "if background_image_path:\n",
        "    print(f\"Using Background Image: {background_image_path}\")\n",
        "else:\n",
        "    print(\"Using solid background color.\")\n",
        "\n",
        "print(f\"Using Font: {font_path}, Size: {font_size}, Style: {style}\")\n",
        "if text_effect:\n",
        "    print(f\"Using Text Effect: {text_effect}\")\n",
        "else:\n",
        "    print(\"No text effect will be used.\")\n",
        "if shapes:\n",
        "    print(f\"Adding Shapes: {shapes}\")\n",
        "else:\n",
        "    print(\"No shapes will be added.\")"
      ],
      "execution_count": null,
      "outputs": [
        {
          "output_type": "stream",
          "name": "stdout",
          "text": [
            "Enter the text for your logo: hii\n",
            "Enter the background color (e.g., #1E90FF or blue): peach\n",
            "Enter the text color (e.g., white or #FFFFFF): black\n",
            "Enter the path to an overlay image file (optional, leave blank to skip): \n",
            "Enter the path to a background image file (optional, leave blank for solid color): \n",
            "\n",
            "Available Fonts (or enter a path to your font file):\n",
            "1. arial.ttf\n",
            "2. Times New Roman.ttf\n",
            "3. Verdana.ttf\n",
            "4. Courier New.ttf\n",
            "5. Georgia.ttf\n",
            "6. Trebuchet MS.ttf\n",
            "Enter the number of your choice or a path to your font file (leave blank for default - arial.ttf): 6\n",
            "Enter the font size (e.g., 60, leave blank for default): 60\n",
            "Enter a style (e.g., simple, bold - basic support, leave blank for simple): simple\n",
            "Enter a text effect (e.g., outline, shadow, leave blank for none): outline\n",
            "Add a rectangle shape? (yes/no, leave blank for no): no\n",
            "\n",
            "Using Text: hii, Background Color: peach, Text Color: black\n",
            "No overlay image will be used.\n",
            "Using solid background color.\n",
            "Using Font: Trebuchet MS.ttf, Size: 60, Style: simple\n",
            "Using Text Effect: outline\n",
            "No shapes will be added.\n"
          ]
        }
      ]
    },
    {
      "cell_type": "code",
      "metadata": {
        "colab": {
          "base_uri": "https://localhost:8080/"
        },
        "id": "d343b67f",
        "outputId": "d75e27f1-3726-4bc2-f14d-4620bd28f259"
      },
      "source": [
        "# Use the user input to generate the logo\n",
        "generate_simple_logo(logo_text, bg_color, text_color, image_path=image_path, font_path=font_path, font_size=font_size, style=style, background_image_path=background_image_path, text_effect=text_effect)"
      ],
      "execution_count": null,
      "outputs": [
        {
          "output_type": "stream",
          "name": "stdout",
          "text": [
            "Warning: Font file not found at verdana.ttf. Using default font.\n",
            "Logo saved as 'generated_logo.png'\n"
          ]
        }
      ]
    },
    {
      "cell_type": "markdown",
      "metadata": {
        "id": "38fc48ad"
      },
      "source": [
        "Now, let's display the generated logo."
      ]
    },
    {
      "cell_type": "code",
      "metadata": {
        "colab": {
          "base_uri": "https://localhost:8080/",
          "height": 217
        },
        "id": "6e5f1ccb",
        "outputId": "bc86f5d1-d9c0-4c44-d6c2-2ca1c88abf71"
      },
      "source": [
        "from IPython.display import Image, display\n",
        "\n",
        "try:\n",
        "    display(Image(filename='generated_logo.png'))\n",
        "except FileNotFoundError:\n",
        "    print(\"Error: 'generated_logo.png' not found. Please ensure the logo was generated successfully.\")"
      ],
      "execution_count": null,
      "outputs": [
        {
          "output_type": "display_data",
          "data": {
            "image/png": "[encoded data removed]",
            "text/plain": [
              "<IPython.core.display.Image object>"
            ]
          },
          "metadata": {}
        }
      ]
    },
    {
      "cell_type": "markdown",
      "metadata": {
        "id": "b28dcb36"
      },
      "source": [
        "# Task\n",
        "Generate a logo with a brand name overlay using a GenAI model for the base image and PIL for text manipulation, incorporating various font styles, text effects, and logo styles."
      ]
    },
    {
      "cell_type": "markdown",
      "metadata": {
        "id": "24168ae5"
      },
      "source": [
        "## Generate a base image using a genai model\n",
        "\n",
        "### Subtask:\n",
        "Use a text prompt to generate a relevant image that will serve as the background for the logo.\n"
      ]
    },
    {
      "cell_type": "markdown",
      "metadata": {
        "id": "cdfa797b"
      },
      "source": [
        "**Reasoning**:\n",
        "Define a prompt for image generation and use the OpenAI API to generate and save the image.\n",
        "\n"
      ]
    },
    {
      "cell_type": "code",
      "metadata": {
        "colab": {
          "base_uri": "https://localhost:8080/"
        },
        "id": "01df8871",
        "outputId": "8e91c86c-60e0-49be-8a35-c95d5ce3a534"
      },
      "source": [
        "prompt = \"A minimalist abstract background image in shades of blue and gray, suitable for a tech company logo.\"\n",
        "try:\n",
        "    response = openai.images.generate(\n",
        "        model=\"dall-e-3\",\n",
        "        prompt=prompt,\n",
        "        size=\"1024x1024\",\n",
        "        quality=\"standard\",\n",
        "        n=1,\n",
        "    )\n",
        "    image_url = response.data[0].url\n",
        "    print(f\"Generated image URL: {image_url}\")\n",
        "\n",
        "    # Download the image\n",
        "    import requests\n",
        "    image_data = requests.get(image_url).content\n",
        "    with open(\"generated_background.png\", \"wb\") as f:\n",
        "        f.write(image_data)\n",
        "    print(\"Generated image saved as 'generated_background.png'\")\n",
        "\n",
        "except Exception as e:\n",
        "    print(f\"Error generating image: {e}\")"
      ],
      "execution_count": null,
      "outputs": [
        {
          "output_type": "stream",
          "name": "stdout",
          "text": [
            "Error generating image: Error code: 400 - {'error': {'message': 'Billing hard limit has been reached', 'type': 'image_generation_user_error', 'param': None, 'code': 'billing_hard_limit_reached'}}\n"
          ]
        }
      ]
    },
    {
      "cell_type": "markdown",
      "metadata": {
        "id": "e3676e07"
      },
      "source": [
        "## Overlay the brand name text\n",
        "\n",
        "### Subtask:\n",
        "Overlay the brand name text on top of the generated image.\n"
      ]
    },
    {
      "cell_type": "markdown",
      "metadata": {
        "id": "dc4e4916"
      },
      "source": [
        "**Reasoning**:\n",
        "Load the background image and overlay the text.\n",
        "\n"
      ]
    },
    {
      "cell_type": "code",
      "metadata": {
        "colab": {
          "base_uri": "https://localhost:8080/"
        },
        "id": "28b7b6b3",
        "outputId": "cd9b3904-a576-4092-a690-193457bf0b6c"
      },
      "source": [
        "import PIL.Image\n",
        "import PIL.ImageDraw\n",
        "import PIL.ImageFont\n",
        "\n",
        "# 1. Load the generated background image\n",
        "background_image_path = 'generated_background.png'\n",
        "try:\n",
        "    background_image = PIL.Image.open(background_image_path).convert(\"RGB\")\n",
        "    print(f\"Loaded background image from {background_image_path}\")\n",
        "except FileNotFoundError:\n",
        "    print(f\"Warning: Generated background image not found at {background_image_path}. Loading a placeholder.\")\n",
        "    # Load a placeholder or default image if the generated one is missing\n",
        "    width, height = 1024, 1024\n",
        "    background_image = PIL.Image.new(\"RGB\", (width, height), \"#DDDDDD\")\n",
        "    # Draw some placeholder text\n",
        "    draw = PIL.ImageDraw.Draw(background_image)\n",
        "    try:\n",
        "        font = PIL.ImageFont.truetype(\"arial.ttf\", size=50)\n",
        "    except IOError:\n",
        "        font = PIL.ImageFont.load_default()\n",
        "    text = \"Placeholder Background\"\n",
        "    bbox = draw.textbbox((0, 0), text, font=font)\n",
        "    text_width = bbox[2] - bbox[0]\n",
        "    text_height = bbox[3] - bbox[1]\n",
        "    text_position = ((width - text_width) // 2, (height - text_height) // 2)\n",
        "    draw.text(text_position, text, font=font, fill=\"black\")\n",
        "\n",
        "\n",
        "# 2. Prepare the brand name text\n",
        "# 'logo_text' is already available from a previous step\n",
        "# 'text_color' and 'font_path', 'font_size', 'style', 'text_effect' are also available\n",
        "\n",
        "# 3. Use the ImageDraw module\n",
        "draw = PIL.ImageDraw.Draw(background_image)\n",
        "\n",
        "# 4. Define the position\n",
        "width, height = background_image.size\n",
        "\n",
        "try:\n",
        "    font = PIL.ImageFont.truetype(font_path, size=font_size)\n",
        "except IOError:\n",
        "    print(f\"Warning: Font file not found at {font_path}. Using default font for text overlay.\")\n",
        "    font = PIL.ImageFont.load_default()\n",
        "    # Adjust font size if using default font, as it's not scalable in the same way\n",
        "    font_size = 16 # Default font has fixed size, this is just for the print statement\n",
        "    print(f\"Using default font with size {font_size}\")\n",
        "\n",
        "\n",
        "# Use textbbox instead of textsize\n",
        "bbox = draw.textbbox((0, 0), logo_text, font=font)\n",
        "text_width = bbox[2] - bbox[0]\n",
        "text_height = bbox[3] - bbox[1]\n",
        "\n",
        "# Center the text\n",
        "text_position = ((width - text_width) // 2, (height - text_height) // 2)\n",
        "\n",
        "# Apply text effect (basic example: outline)\n",
        "if text_effect == \"outline\":\n",
        "    outline_color = \"black\"  # You can make this a parameter\n",
        "    outline_width = 2       # You can make this a parameter\n",
        "    # Draw outline\n",
        "    for x_offset in range(-outline_width, outline_width + 1):\n",
        "        for y_offset in range(-outline_width, outline_width + 1):\n",
        "            if x_offset != 0 or y_offset != 0:\n",
        "                draw.text((text_position[0] + x_offset, text_position[1] + y_offset), logo_text, font=font, fill=outline_color)\n",
        "\n",
        "# Apply style (basic example)\n",
        "if style == \"bold\":\n",
        "    # This is a simplified approach; true bolding depends on font support\n",
        "    draw.text((text_position[0] + 1, text_position[1]), logo_text, font=font, fill=text_color)\n",
        "\n",
        "\n",
        "# 5. Draw the text onto the image\n",
        "draw.text(text_position, logo_text, font=font, fill=text_color)\n",
        "\n",
        "# Save the image with the overlaid text\n",
        "background_image.save(\"logo_with_text.png\")\n",
        "print(\"Logo with overlaid text saved as 'logo_with_text.png'\")"
      ],
      "execution_count": null,
      "outputs": [
        {
          "output_type": "stream",
          "name": "stdout",
          "text": [
            "Warning: Generated background image not found at generated_background.png. Loading a placeholder.\n",
            "Warning: Font file not found at Trebuchet MS.ttf. Using default font for text overlay.\n",
            "Using default font with size 16\n",
            "Logo with overlaid text saved as 'logo_with_text.png'\n"
          ]
        }
      ]
    },
    {
      "cell_type": "markdown",
      "metadata": {
        "id": "e13da631"
      },
      "source": [
        "## Implement logo styles for the text\n",
        "\n",
        "### Subtask:\n",
        "Apply different visual styles to the overlaid text (e.g., font, size, color, effects like outline or shadow).\n"
      ]
    },
    {
      "cell_type": "markdown",
      "metadata": {
        "id": "d3f9b3b7"
      },
      "source": [
        "**Reasoning**:\n",
        "Modify the existing `generate_simple_logo` function to incorporate the requested text styling and effects based on the available variables.\n",
        "\n"
      ]
    },
    {
      "cell_type": "code",
      "metadata": {
        "id": "2cf73965"
      },
      "source": [
        "from PIL import Image, ImageDraw, ImageFont\n",
        "import PIL # Import PIL explicitly\n",
        "\n",
        "def generate_simple_logo(text=\"MyLogo\", bg_color=\"#1E90FF\", text_color=\"white\", image_path=None, font_path=\"arial.ttf\", font_size=60, style=\"simple\", background_image_path=None, text_effect=None):\n",
        "    width, height = 400, 200\n",
        "\n",
        "    if background_image_path:\n",
        "        try:\n",
        "            background_image = PIL.Image.open(background_image_path).convert(\"RGB\")\n",
        "            # Resize background image to fit the logo dimensions\n",
        "            image = background_image.resize((width, height))\n",
        "        except FileNotFoundError:\n",
        "            print(f\"Error: Background image file not found at {background_image_path}. Using solid background color.\")\n",
        "            image = PIL.Image.new(\"RGB\", (width, height), bg_color) # Use PIL.Image.new\n",
        "        except Exception as e:\n",
        "            print(f\"Error processing background image: {e}. Using solid background color.\")\n",
        "            image = PIL.Image.new(\"RGB\", (width, height), bg_color) # Use PIL.Image.new\n",
        "    else:\n",
        "        image = PIL.Image.new(\"RGB\", (width, height), bg_color) # Use PIL.Image.new\n",
        "\n",
        "\n",
        "    draw = ImageDraw.Draw(image)\n",
        "\n",
        "    try:\n",
        "        font = ImageFont.truetype(font_path, size=font_size)\n",
        "    except IOError:\n",
        "        print(f\"Warning: Font file not found at {font_path}. Using default font.\")\n",
        "        font = ImageFont.load_default()\n",
        "\n",
        "    # Use textbbox instead of textsize\n",
        "    bbox = draw.textbbox((0, 0), text, font=font)\n",
        "    text_width = bbox[2] - bbox[0]\n",
        "    text_height = bbox[3] - bbox[1]\n",
        "\n",
        "    text_position = ((width - text_width) // 2, (height - text_height) // 2)\n",
        "\n",
        "    # Apply text effect\n",
        "    if text_effect == \"outline\":\n",
        "        outline_color = \"black\"\n",
        "        outline_width = 2\n",
        "        for x_offset in range(-outline_width, outline_width + 1):\n",
        "            for y_offset in range(-outline_width, outline_width + 1):\n",
        "                if x_offset != 0 or y_offset != 0:\n",
        "                    draw.text((text_position[0] + x_offset, text_position[1] + y_offset), text, font=font, fill=outline_color)\n",
        "    elif text_effect == \"shadow\":\n",
        "        shadow_color = \"black\" # You can make this a parameter\n",
        "        shadow_offset = (5, 5)  # You can make this a parameter\n",
        "        draw.text((text_position[0] + shadow_offset[0], text_position[1] + shadow_offset[1]), text, font=font, fill=shadow_color)\n",
        "\n",
        "\n",
        "    # Apply style (basic example)\n",
        "    if style == \"bold\":\n",
        "        # This is a simplified approach; true bolding depends on font support\n",
        "        draw.text((text_position[0] + 1, text_position[1]), text, font=font, fill=text_color)\n",
        "\n",
        "\n",
        "    draw.text(text_position, text, font=font, fill=text_color)\n",
        "\n",
        "    if image_path:\n",
        "        try:\n",
        "            overlay_image = PIL.Image.open(image_path).convert(\"RGBA\") # Use PIL.Image.open\n",
        "            # Resize the image if needed (optional)\n",
        "            overlay_image = overlay_image.resize((100, 100)) # Example resize\n",
        "            # Paste the image onto the logo (adjust position as needed)\n",
        "            image.paste(overlay_image, (50, 50), overlay_image)\n",
        "        except FileNotFoundError:\n",
        "            print(f\"Error: Image file not found at {image_path}\")\n",
        "        except Exception as e:\n",
        "            print(f\"Error processing image: {e}\")\n",
        "\n",
        "\n",
        "    image.save(\"generated_logo.png\")\n",
        "    print(\"Logo saved as 'generated_logo.png'\")\n",
        "\n",
        "# The variables logo_text, bg_color, text_color, image_path, font_path, font_size, style, background_image_path, text_effect\n",
        "# are assumed to be available from the previous user input step.\n",
        "# The next cell will call this function with those variables."
      ],
      "execution_count": null,
      "outputs": []
    },
    {
      "cell_type": "markdown",
      "metadata": {
        "id": "5d3836af"
      },
      "source": [
        "**Reasoning**:\n",
        "Call the updated `generate_simple_logo` function with the user input variables to generate the logo with the specified styling and effects.\n",
        "\n"
      ]
    },
    {
      "cell_type": "code",
      "metadata": {
        "colab": {
          "base_uri": "https://localhost:8080/",
          "height": 443
        },
        "id": "df56e432",
        "outputId": "b092c9aa-8af8-4363-fbe9-27c020951b9c"
      },
      "source": [
        "# Use the user input to generate the logo with the updated styling and effects\n",
        "generate_simple_logo(text=logo_text, bg_color=bg_color, text_color=text_color, image_path=image_path, font_path=font_path, font_size=font_size, style=style, background_image_path=background_image_path, text_effect=text_effect, shapes=shapes)"
      ],
      "execution_count": null,
      "outputs": [
        {
          "output_type": "error",
          "ename": "ValueError",
          "evalue": "unknown color specifier: 'peach'",
          "traceback": [
            "\u001b[0;31m---------------------------------------------------------------------------\u001b[0m",
            "\u001b[0;31mValueError\u001b[0m                                Traceback (most recent call last)",
            "\u001b[0;32m/tmp/ipython-input-31-833768390.py\u001b[0m in \u001b[0;36m<cell line: 0>\u001b[0;34m()\u001b[0m\n\u001b[1;32m      1\u001b[0m \u001b[0;31m# Use the user input to generate the logo with the updated styling and effects\u001b[0m\u001b[0;34m\u001b[0m\u001b[0;34m\u001b[0m\u001b[0m\n\u001b[0;32m----> 2\u001b[0;31m \u001b[0mgenerate_simple_logo\u001b[0m\u001b[0;34m(\u001b[0m\u001b[0mtext\u001b[0m\u001b[0;34m=\u001b[0m\u001b[0mlogo_text\u001b[0m\u001b[0;34m,\u001b[0m \u001b[0mbg_color\u001b[0m\u001b[0;34m=\u001b[0m\u001b[0mbg_color\u001b[0m\u001b[0;34m,\u001b[0m \u001b[0mtext_color\u001b[0m\u001b[0;34m=\u001b[0m\u001b[0mtext_color\u001b[0m\u001b[0;34m,\u001b[0m \u001b[0mimage_path\u001b[0m\u001b[0;34m=\u001b[0m\u001b[0mimage_path\u001b[0m\u001b[0;34m,\u001b[0m \u001b[0mfont_path\u001b[0m\u001b[0;34m=\u001b[0m\u001b[0mfont_path\u001b[0m\u001b[0;34m,\u001b[0m \u001b[0mfont_size\u001b[0m\u001b[0;34m=\u001b[0m\u001b[0mfont_size\u001b[0m\u001b[0;34m,\u001b[0m \u001b[0mstyle\u001b[0m\u001b[0;34m=\u001b[0m\u001b[0mstyle\u001b[0m\u001b[0;34m,\u001b[0m \u001b[0mbackground_image_path\u001b[0m\u001b[0;34m=\u001b[0m\u001b[0mbackground_image_path\u001b[0m\u001b[0;34m,\u001b[0m \u001b[0mtext_effect\u001b[0m\u001b[0;34m=\u001b[0m\u001b[0mtext_effect\u001b[0m\u001b[0;34m,\u001b[0m \u001b[0mshapes\u001b[0m\u001b[0;34m=\u001b[0m\u001b[0mshapes\u001b[0m\u001b[0;34m)\u001b[0m\u001b[0;34m\u001b[0m\u001b[0;34m\u001b[0m\u001b[0m\n\u001b[0m",
            "\u001b[0;32m/tmp/ipython-input-21-2974494363.py\u001b[0m in \u001b[0;36mgenerate_simple_logo\u001b[0;34m(text, bg_color, text_color, image_path, font_path, font_size, style, background_image_path, text_effect, text_position, shapes)\u001b[0m\n\u001b[1;32m     17\u001b[0m             \u001b[0mimage\u001b[0m \u001b[0;34m=\u001b[0m \u001b[0mPIL\u001b[0m\u001b[0;34m.\u001b[0m\u001b[0mImage\u001b[0m\u001b[0;34m.\u001b[0m\u001b[0mnew\u001b[0m\u001b[0;34m(\u001b[0m\u001b[0;34m\"RGB\"\u001b[0m\u001b[0;34m,\u001b[0m \u001b[0;34m(\u001b[0m\u001b[0mwidth\u001b[0m\u001b[0;34m,\u001b[0m \u001b[0mheight\u001b[0m\u001b[0;34m)\u001b[0m\u001b[0;34m,\u001b[0m \u001b[0mbg_color\u001b[0m\u001b[0;34m)\u001b[0m \u001b[0;31m# Use PIL.Image.new\u001b[0m\u001b[0;34m\u001b[0m\u001b[0;34m\u001b[0m\u001b[0m\n\u001b[1;32m     18\u001b[0m     \u001b[0;32melse\u001b[0m\u001b[0;34m:\u001b[0m\u001b[0;34m\u001b[0m\u001b[0;34m\u001b[0m\u001b[0m\n\u001b[0;32m---> 19\u001b[0;31m         \u001b[0mimage\u001b[0m \u001b[0;34m=\u001b[0m \u001b[0mPIL\u001b[0m\u001b[0;34m.\u001b[0m\u001b[0mImage\u001b[0m\u001b[0;34m.\u001b[0m\u001b[0mnew\u001b[0m\u001b[0;34m(\u001b[0m\u001b[0;34m\"RGB\"\u001b[0m\u001b[0;34m,\u001b[0m \u001b[0;34m(\u001b[0m\u001b[0mwidth\u001b[0m\u001b[0;34m,\u001b[0m \u001b[0mheight\u001b[0m\u001b[0;34m)\u001b[0m\u001b[0;34m,\u001b[0m \u001b[0mbg_color\u001b[0m\u001b[0;34m)\u001b[0m \u001b[0;31m# Use PIL.Image.new\u001b[0m\u001b[0;34m\u001b[0m\u001b[0;34m\u001b[0m\u001b[0m\n\u001b[0m\u001b[1;32m     20\u001b[0m \u001b[0;34m\u001b[0m\u001b[0m\n\u001b[1;32m     21\u001b[0m \u001b[0;34m\u001b[0m\u001b[0m\n",
            "\u001b[0;32m/usr/local/lib/python3.11/dist-packages/PIL/Image.py\u001b[0m in \u001b[0;36mnew\u001b[0;34m(mode, size, color)\u001b[0m\n\u001b[1;32m   3100\u001b[0m         \u001b[0;32mfrom\u001b[0m \u001b[0;34m.\u001b[0m \u001b[0;32mimport\u001b[0m \u001b[0mImageColor\u001b[0m\u001b[0;34m\u001b[0m\u001b[0;34m\u001b[0m\u001b[0m\n\u001b[1;32m   3101\u001b[0m \u001b[0;34m\u001b[0m\u001b[0m\n\u001b[0;32m-> 3102\u001b[0;31m         \u001b[0mcolor\u001b[0m \u001b[0;34m=\u001b[0m \u001b[0mImageColor\u001b[0m\u001b[0;34m.\u001b[0m\u001b[0mgetcolor\u001b[0m\u001b[0;34m(\u001b[0m\u001b[0mcolor\u001b[0m\u001b[0;34m,\u001b[0m \u001b[0mmode\u001b[0m\u001b[0;34m)\u001b[0m\u001b[0;34m\u001b[0m\u001b[0;34m\u001b[0m\u001b[0m\n\u001b[0m\u001b[1;32m   3103\u001b[0m \u001b[0;34m\u001b[0m\u001b[0m\n\u001b[1;32m   3104\u001b[0m     \u001b[0mim\u001b[0m \u001b[0;34m=\u001b[0m \u001b[0mImage\u001b[0m\u001b[0;34m(\u001b[0m\u001b[0;34m)\u001b[0m\u001b[0;34m\u001b[0m\u001b[0;34m\u001b[0m\u001b[0m\n",
            "\u001b[0;32m/usr/local/lib/python3.11/dist-packages/PIL/ImageColor.py\u001b[0m in \u001b[0;36mgetcolor\u001b[0;34m(color, mode)\u001b[0m\n\u001b[1;32m    142\u001b[0m     \"\"\"\n\u001b[1;32m    143\u001b[0m     \u001b[0;31m# same as getrgb, but converts the result to the given mode\u001b[0m\u001b[0;34m\u001b[0m\u001b[0;34m\u001b[0m\u001b[0m\n\u001b[0;32m--> 144\u001b[0;31m     \u001b[0mrgb\u001b[0m\u001b[0;34m,\u001b[0m \u001b[0malpha\u001b[0m \u001b[0;34m=\u001b[0m \u001b[0mgetrgb\u001b[0m\u001b[0;34m(\u001b[0m\u001b[0mcolor\u001b[0m\u001b[0;34m)\u001b[0m\u001b[0;34m,\u001b[0m \u001b[0;36m255\u001b[0m\u001b[0;34m\u001b[0m\u001b[0;34m\u001b[0m\u001b[0m\n\u001b[0m\u001b[1;32m    145\u001b[0m     \u001b[0;32mif\u001b[0m \u001b[0mlen\u001b[0m\u001b[0;34m(\u001b[0m\u001b[0mrgb\u001b[0m\u001b[0;34m)\u001b[0m \u001b[0;34m==\u001b[0m \u001b[0;36m4\u001b[0m\u001b[0;34m:\u001b[0m\u001b[0;34m\u001b[0m\u001b[0;34m\u001b[0m\u001b[0m\n\u001b[1;32m    146\u001b[0m         \u001b[0malpha\u001b[0m \u001b[0;34m=\u001b[0m \u001b[0mrgb\u001b[0m\u001b[0;34m[\u001b[0m\u001b[0;36m3\u001b[0m\u001b[0;34m]\u001b[0m\u001b[0;34m\u001b[0m\u001b[0;34m\u001b[0m\u001b[0m\n",
            "\u001b[0;32m/usr/local/lib/python3.11/dist-packages/PIL/ImageColor.py\u001b[0m in \u001b[0;36mgetrgb\u001b[0;34m(color)\u001b[0m\n\u001b[1;32m    123\u001b[0m         \u001b[0;32mreturn\u001b[0m \u001b[0mint\u001b[0m\u001b[0;34m(\u001b[0m\u001b[0mm\u001b[0m\u001b[0;34m.\u001b[0m\u001b[0mgroup\u001b[0m\u001b[0;34m(\u001b[0m\u001b[0;36m1\u001b[0m\u001b[0;34m)\u001b[0m\u001b[0;34m)\u001b[0m\u001b[0;34m,\u001b[0m \u001b[0mint\u001b[0m\u001b[0;34m(\u001b[0m\u001b[0mm\u001b[0m\u001b[0;34m.\u001b[0m\u001b[0mgroup\u001b[0m\u001b[0;34m(\u001b[0m\u001b[0;36m2\u001b[0m\u001b[0;34m)\u001b[0m\u001b[0;34m)\u001b[0m\u001b[0;34m,\u001b[0m \u001b[0mint\u001b[0m\u001b[0;34m(\u001b[0m\u001b[0mm\u001b[0m\u001b[0;34m.\u001b[0m\u001b[0mgroup\u001b[0m\u001b[0;34m(\u001b[0m\u001b[0;36m3\u001b[0m\u001b[0;34m)\u001b[0m\u001b[0;34m)\u001b[0m\u001b[0;34m,\u001b[0m \u001b[0mint\u001b[0m\u001b[0;34m(\u001b[0m\u001b[0mm\u001b[0m\u001b[0;34m.\u001b[0m\u001b[0mgroup\u001b[0m\u001b[0;34m(\u001b[0m\u001b[0;36m4\u001b[0m\u001b[0;34m)\u001b[0m\u001b[0;34m)\u001b[0m\u001b[0;34m\u001b[0m\u001b[0;34m\u001b[0m\u001b[0m\n\u001b[1;32m    124\u001b[0m     \u001b[0mmsg\u001b[0m \u001b[0;34m=\u001b[0m \u001b[0;34mf\"unknown color specifier: {repr(color)}\"\u001b[0m\u001b[0;34m\u001b[0m\u001b[0;34m\u001b[0m\u001b[0m\n\u001b[0;32m--> 125\u001b[0;31m     \u001b[0;32mraise\u001b[0m \u001b[0mValueError\u001b[0m\u001b[0;34m(\u001b[0m\u001b[0mmsg\u001b[0m\u001b[0;34m)\u001b[0m\u001b[0;34m\u001b[0m\u001b[0;34m\u001b[0m\u001b[0m\n\u001b[0m\u001b[1;32m    126\u001b[0m \u001b[0;34m\u001b[0m\u001b[0m\n\u001b[1;32m    127\u001b[0m \u001b[0;34m\u001b[0m\u001b[0m\n",
            "\u001b[0;31mValueError\u001b[0m: unknown color specifier: 'peach'"
          ]
        }
      ]
    },
    {
      "cell_type": "markdown",
      "metadata": {
        "id": "876c9fa5"
      },
      "source": [
        "**Reasoning**:\n",
        "Display the generated logo image to visually confirm the applied text styles and effects.\n",
        "\n"
      ]
    },
    {
      "cell_type": "code",
      "metadata": {
        "colab": {
          "base_uri": "https://localhost:8080/",
          "height": 217
        },
        "id": "0ea5f449",
        "outputId": "cd67faa2-116b-4ad0-fe74-cd877bfa8790"
      },
      "source": [
        "from IPython.display import Image, display\n",
        "\n",
        "try:\n",
        "    display(Image(filename='generated_logo.png'))\n",
        "except FileNotFoundError:\n",
        "    print(\"Error: 'generated_logo.png' not found. Please ensure the logo was generated successfully.\")"
      ],
      "execution_count": null,
      "outputs": [
        {
          "output_type": "display_data",
          "data": {
            "image/png": "[encoded data removed]",
            "text/plain": [
              "<IPython.core.display.Image object>"
            ]
          },
          "metadata": {}
        }
      ]
    },
    {
      "cell_type": "code",
      "metadata": {
        "id": "546acb93"
      },
      "source": [
        "from PIL import Image, ImageDraw, ImageFont, ImageColor\n",
        "import PIL # Import PIL explicitly\n",
        "\n",
        "def generate_simple_logo(text=\"MyLogo\", bg_color=\"#1E90FF\", text_color=\"white\", image_path=None, font_path=\"arial.ttf\", font_size=60, style=\"simple\", background_image_path=None, text_effect=None, text_position=None, shapes=None):\n",
        "    width, height = 400, 200\n",
        "\n",
        "    # Function to safely get color\n",
        "    def safe_get_color(color_specifier):\n",
        "        try:\n",
        "            # Try to parse as a color name (like \"red\") or hex code (#FF0000)\n",
        "            return ImageColor.getrgb(color_specifier)\n",
        "        except ValueError:\n",
        "            print(f\"Warning: Unknown color specifier '{color_specifier}'. Using black.\")\n",
        "            return (0, 0, 0) # Default to black if color is invalid\n",
        "\n",
        "    # Get colors safely\n",
        "    bg_color_rgb = safe_get_color(bg_color)\n",
        "    text_color_rgb = safe_get_color(text_color)\n",
        "\n",
        "\n",
        "    if background_image_path:\n",
        "        try:\n",
        "            background_image = PIL.Image.open(background_image_path).convert(\"RGB\")\n",
        "            # Resize background image to fit the logo dimensions\n",
        "            image = background_image.resize((width, height))\n",
        "        except FileNotFoundError:\n",
        "            print(f\"Error: Background image file not found at {background_image_path}. Using solid background color.\")\n",
        "            image = PIL.Image.new(\"RGB\", (width, height), bg_color_rgb) # Use PIL.Image.new\n",
        "        except Exception as e:\n",
        "            print(f\"Error processing background image: {e}. Using solid background color.\")\n",
        "            image = PIL.Image.new(\"RGB\", (width, height), bg_color_rgb) # Use PIL.Image.new\n",
        "    else:\n",
        "        image = PIL.Image.new(\"RGB\", (width, height), bg_color_rgb) # Use PIL.Image.new\n",
        "\n",
        "\n",
        "    draw = ImageDraw.Draw(image)\n",
        "\n",
        "    # Draw shapes if provided\n",
        "    if shapes:\n",
        "        for shape in shapes:\n",
        "            shape_type = shape.get(\"type\")\n",
        "            color = shape.get(\"color\", \"black\")\n",
        "            position = shape.get(\"position\")\n",
        "            size = shape.get(\"size\") # For rectangles/ellipses\n",
        "\n",
        "            shape_color_rgb = safe_get_color(color)\n",
        "\n",
        "            if shape_type == \"rectangle\" and position and size:\n",
        "                draw.rectangle([position, (position[0] + size[0], position[1] + size[1])], fill=shape_color_rgb)\n",
        "            # Add more shape types here (e.g., \"ellipse\", \"line\")\n",
        "\n",
        "\n",
        "    try:\n",
        "        font = ImageFont.truetype(font_path, size=font_size)\n",
        "    except IOError:\n",
        "        print(f\"Warning: Font file not found at {font_path}. Using default font.\")\n",
        "        font = ImageFont.load_default()\n",
        "\n",
        "    # Calculate text size\n",
        "    bbox = draw.textbbox((0, 0), text, font=font)\n",
        "    text_width = bbox[2] - bbox[0]\n",
        "    text_height = bbox[3] - bbox[1]\n",
        "\n",
        "    # Determine text position\n",
        "    if text_position is None:\n",
        "        # Center the text if no position is provided\n",
        "        text_position = ((width - text_width) // 2, (height - text_height) // 2)\n",
        "\n",
        "    # Apply text effect\n",
        "    if text_effect == \"outline\":\n",
        "        outline_color = \"black\"\n",
        "        outline_width = 2\n",
        "        outline_color_rgb = safe_get_color(outline_color)\n",
        "        for x_offset in range(-outline_width, outline_width + 1):\n",
        "            for y_offset in range(-outline_width, outline_width + 1):\n",
        "                if x_offset != 0 or y_offset != 0:\n",
        "                    draw.text((text_position[0] + x_offset, text_position[1] + y_offset), text, font=font, fill=outline_color_rgb)\n",
        "    elif text_effect == \"shadow\":\n",
        "        shadow_color = \"black\"\n",
        "        shadow_offset = (5, 5)\n",
        "        shadow_color_rgb = safe_get_color(shadow_color)\n",
        "        draw.text((text_position[0] + shadow_offset[0], text_position[1] + shadow_offset[1]), text, font=font, fill=shadow_color_rgb)\n",
        "\n",
        "\n",
        "    # Apply style (basic example)\n",
        "    if style == \"bold\":\n",
        "        draw.text((text_position[0] + 1, text_position[1]), text, font=font, fill=text_color_rgb)\n",
        "\n",
        "\n",
        "    draw.text(text_position, text, font=font, fill=text_color_rgb)\n",
        "\n",
        "    if image_path:\n",
        "        try:\n",
        "            overlay_image = PIL.Image.open(image_path).convert(\"RGBA\")\n",
        "            # Resize the image if needed (optional)\n",
        "            overlay_image = overlay_image.resize((100, 100))\n",
        "            # Paste the image onto the logo (adjust position as needed)\n",
        "            image.paste(overlay_image, (50, 50), overlay_image)\n",
        "        except FileNotFoundError:\n",
        "            print(f\"Error: Image file not found at {image_path}\")\n",
        "        except Exception as e:\n",
        "            print(f\"Error processing image: {e}\")\n",
        "\n",
        "\n",
        "    image.save(\"generated_logo.png\")\n",
        "    print(\"Logo saved as 'generated_logo.png'\")\n",
        "\n",
        "# The variables logo_text, bg_color, text_color, image_path, font_path, font_size, style, background_image_path, text_effect\n",
        "# are assumed to be available from the previous user input step.\n",
        "# The next cell will call this function with those variables."
      ],
      "execution_count": 4,
      "outputs": []
    },
    {
      "cell_type": "code",
      "metadata": {
        "colab": {
          "base_uri": "https://localhost:8080/"
        },
        "id": "22dc5889",
        "outputId": "79dfdf8f-1ef1-49b6-abbd-84cbd72a4a9a"
      },
      "source": [
        "import os\n",
        "\n",
        "def get_logo_input():\n",
        "    logo_text = input(\"Enter the text for your logo: \")\n",
        "    bg_color = input(\"Enter the background color (e.g., #1E90FF or blue): \")\n",
        "    text_color = input(\"Enter the text color (e.g., white or #FFFFFF): \")\n",
        "    image_path = input(\"Enter the path to an overlay image file (optional, leave blank to skip): \")\n",
        "    background_image_path = input(\"Enter the path to a background image file (optional, leave blank for solid color): \")\n",
        "\n",
        "    # Basic Font Picker\n",
        "    print(\"\\nAvailable Fonts (or enter a path to your font file):\")\n",
        "    # List some common system fonts or fonts in the current directory\n",
        "    available_fonts = [\"arial.ttf\", \"Times New Roman.ttf\", \"Verdana.ttf\", \"Courier New.ttf\", \"Georgia.ttf\", \"Trebuchet MS.ttf\"] # Added more common fonts\n",
        "    for i, font_name in enumerate(available_fonts):\n",
        "        print(f\"{i+1}. {font_name}\")\n",
        "\n",
        "    font_choice = input(f\"Enter the number of your choice or a path to your font file (leave blank for default - arial.ttf): \")\n",
        "\n",
        "    if font_choice.isdigit() and int(font_choice) > 0 and int(font_choice) <= len(available_fonts):\n",
        "        font_path = available_fonts[int(font_choice) - 1]\n",
        "    elif font_choice:\n",
        "        font_path = font_choice # User provided a path\n",
        "    else:\n",
        "        font_path = \"arial.ttf\" # Default font\n",
        "\n",
        "\n",
        "    font_size_input = input(\"Enter the font size (e.g., 60, leave blank for default): \")\n",
        "    if not font_size_input:\n",
        "        font_size = 60 # Default size\n",
        "    else:\n",
        "        font_size = int(font_size_input) # Convert to integer\n",
        "\n",
        "    style = input(\"Enter a style (e.g., simple, bold - basic support, leave blank for simple): \")\n",
        "    if not style:\n",
        "        style = \"simple\" # Default style\n",
        "\n",
        "    text_effect = input(\"Enter a text effect (e.g., outline, shadow, leave blank for none): \")\n",
        "\n",
        "\n",
        "    return logo_text, bg_color, text_color, image_path, font_path, font_size, style, background_image_path, text_effect\n",
        "\n",
        "logo_text, bg_color, text_color, image_path, font_path, font_size, style, background_image_path, text_effect = get_logo_input()\n",
        "print(f\"\\nUsing Text: {logo_text}, Background Color: {bg_color}, Text Color: {text_color}\")\n",
        "if image_path:\n",
        "    print(f\"Using Overlay Image: {image_path}\")\n",
        "else:\n",
        "    print(\"No overlay image will be used.\")\n",
        "if background_image_path:\n",
        "    print(f\"Using Background Image: {background_image_path}\")\n",
        "else:\n",
        "    print(\"Using solid background color.\")\n",
        "\n",
        "print(f\"Using Font: {font_path}, Size: {font_size}, Style: {style}\")\n",
        "if text_effect:\n",
        "    print(f\"Using Text Effect: {text_effect}\")\n",
        "else:\n",
        "    print(\"No text effect will be used.\")"
      ],
      "execution_count": null,
      "outputs": [
        {
          "output_type": "stream",
          "name": "stdout",
          "text": [
            "Enter the text for your logo: hiii\n",
            "Enter the background color (e.g., #1E90FF or blue): black\n",
            "Enter the text color (e.g., white or #FFFFFF): white\n",
            "Enter the path to an overlay image file (optional, leave blank to skip): \n",
            "Enter the path to a background image file (optional, leave blank for solid color): \n",
            "\n",
            "Available Fonts (or enter a path to your font file):\n",
            "1. arial.ttf\n",
            "2. Times New Roman.ttf\n",
            "3. Verdana.ttf\n",
            "4. Courier New.ttf\n",
            "5. Georgia.ttf\n",
            "6. Trebuchet MS.ttf\n",
            "Enter the number of your choice or a path to your font file (leave blank for default - arial.ttf): 6\n",
            "Enter the font size (e.g., 60, leave blank for default): 70\n",
            "Enter a style (e.g., simple, bold - basic support, leave blank for simple): simple\n",
            "Enter a text effect (e.g., outline, shadow, leave blank for none): shadow\n",
            "\n",
            "Using Text: hiii, Background Color: black, Text Color: white\n",
            "No overlay image will be used.\n",
            "Using solid background color.\n",
            "Using Font: Trebuchet MS.ttf, Size: 70, Style: simple\n",
            "Using Text Effect: shadow\n"
          ]
        }
      ]
    },
    {
      "cell_type": "code",
      "metadata": {
        "colab": {
          "base_uri": "https://localhost:8080/",
          "height": 252
        },
        "id": "a9001b6b",
        "outputId": "42d46404-f443-4939-dae5-0a3fc396f60e"
      },
      "source": [
        "# Use the user input to generate the logo with the updated styling and effects\n",
        "generate_simple_logo(text=logo_text, bg_color=bg_color, text_color=text_color, image_path=image_path, font_path=font_path, font_size=font_size, style=style, background_image_path=background_image_path, text_effect=text_effect)\n",
        "\n",
        "# Display the generated logo\n",
        "from IPython.display import Image, display\n",
        "\n",
        "try:\n",
        "    display(Image(filename='generated_logo.png'))\n",
        "except FileNotFoundError:\n",
        "    print(\"Error: 'generated_logo.png' not found. Please ensure the logo was generated successfully.\")"
      ],
      "execution_count": null,
      "outputs": [
        {
          "output_type": "stream",
          "name": "stdout",
          "text": [
            "Warning: Font file not found at Trebuchet MS.ttf. Using default font.\n",
            "Logo saved as 'generated_logo.png'\n"
          ]
        },
        {
          "output_type": "display_data",
          "data": {
            "image/png": "[encoded data removed]",
            "text/plain": [
              "<IPython.core.display.Image object>"
            ]
          },
          "metadata": {}
        }
      ]
    },
    {
      "cell_type": "code",
      "metadata": {
        "id": "c87f3f79"
      },
      "source": [
        "def generate_industry_prompt(industry):\n",
        "    \"\"\"Generates a text prompt for a logo background image based on industry.\"\"\"\n",
        "    prompts = {\n",
        "        \"Tech\": \"a minimalist abstract background image in shades of blue and gray, suitable for a tech company logo.\",\n",
        "        \"Education\": \"a bright and clean background image with subtle learning motifs, suitable for an education logo.\",\n",
        "        \"Healthcare\": \"a modern and clean background image with subtle medical or wellness elements, suitable for a healthcare logo.\",\n",
        "        \"Finance\": \"a sophisticated background image with abstract patterns related to growth or security, suitable for a finance logo.\",\n",
        "        \"Food\": \"a vibrant and inviting background image with subtle food or ingredient elements, suitable for a food logo.\",\n",
        "        # Add more industries and corresponding prompts here\n",
        "    }\n",
        "    return prompts.get(industry, f\"a professional background image suitable for a {industry} company logo.\")\n",
        "\n",
        "# Example usage:\n",
        "# tech_prompt = generate_industry_prompt(\"Tech\")\n",
        "# print(tech_prompt)\n",
        "\n",
        "# healthcare_prompt = generate_industry_prompt(\"Healthcare\")\n",
        "# print(healthcare_prompt)"
      ],
      "execution_count": null,
      "outputs": []
    },
    {
      "cell_type": "code",
      "metadata": {
        "colab": {
          "base_uri": "https://localhost:8080/"
        },
        "id": "8d60ccc8",
        "outputId": "fe956a63-a0a1-449a-86b0-7f317d7ef1f5"
      },
      "source": [
        "import openai\n",
        "from google.colab import userdata\n",
        "\n",
        "# Retrieve the API key from Colab's secrets manager\n",
        "openai.api_key = userdata.get('OPENAI_API_KEY')\n",
        "\n",
        "# Get an industry from the user (you can modify this to get input dynamically)\n",
        "industry_type = \"Tech\" # Example industry\n",
        "\n",
        "# Generate the prompt based on the industry\n",
        "prompt = generate_industry_prompt(industry_type)\n",
        "print(f\"Generated prompt for '{industry_type}': {prompt}\")\n",
        "\n",
        "try:\n",
        "    response = openai.images.generate(\n",
        "        model=\"dall-e-3\",\n",
        "        prompt=prompt,\n",
        "        size=\"1024x1024\",\n",
        "        quality=\"standard\",\n",
        "        n=1,\n",
        "    )\n",
        "    image_url = response.data[0].url\n",
        "    print(f\"Generated image URL: {image_url}\")\n",
        "\n",
        "    # Download the image\n",
        "    import requests\n",
        "    image_data = requests.get(image_url).content\n",
        "    with open(\"generated_background.png\", \"wb\") as f:\n",
        "        f.write(image_data)\n",
        "    print(\"Generated image saved as 'generated_background.png'\")\n",
        "\n",
        "except Exception as e:\n",
        "    print(f\"Error generating image: {e}\")"
      ],
      "execution_count": null,
      "outputs": [
        {
          "output_type": "stream",
          "name": "stdout",
          "text": [
            "Generated prompt for 'Tech': a minimalist abstract background image in shades of blue and gray, suitable for a tech company logo.\n",
            "Error generating image: Error code: 400 - {'error': {'message': 'Billing hard limit has been reached', 'type': 'image_generation_user_error', 'param': None, 'code': 'billing_hard_limit_reached'}}\n"
          ]
        }
      ]
    },
    {
      "cell_type": "markdown",
      "metadata": {
        "id": "c50a7da6"
      },
      "source": [
        "# Task\n",
        "Build a unique logo generation feature that allows users to specify shapes (e.g., rectangles) with their color, position, and size to be included in the logo."
      ]
    },
    {
      "cell_type": "markdown",
      "metadata": {
        "id": "7f064437"
      },
      "source": [
        "## Modify the input function\n",
        "\n",
        "### Subtask:\n",
        "Add an option for the user to specify shapes (e.g., rectangles) with their color, position, and size.\n"
      ]
    },
    {
      "cell_type": "markdown",
      "metadata": {
        "id": "bf9ca3d2"
      },
      "source": [
        "**Reasoning**:\n",
        "Modify the `get_logo_input` function to include prompts for shape input.\n",
        "\n"
      ]
    },
    {
      "cell_type": "code",
      "metadata": {
        "colab": {
          "base_uri": "https://localhost:8080/"
        },
        "id": "076112d2",
        "outputId": "651894f1-1dff-49f5-d227-ecc3cddb129e"
      },
      "source": [
        "import os\n",
        "\n",
        "def get_logo_input():\n",
        "    logo_text = input(\"Enter the text for your logo: \")\n",
        "    bg_color = input(\"Enter the background color (e.g., #1E90FF or blue): \")\n",
        "    text_color = input(\"Enter the text color (e.g., white or #FFFFFF): \")\n",
        "    image_path = input(\"Enter the path to an overlay image file (optional, leave blank to skip): \")\n",
        "    background_image_path = input(\"Enter the path to a background image file (optional, leave blank for solid color): \")\n",
        "\n",
        "    # Basic Font Picker\n",
        "    print(\"\\nAvailable Fonts (or enter a path to your font file):\")\n",
        "    # List some common system fonts or fonts in the current directory\n",
        "    available_fonts = [\"arial.ttf\", \"Times New Roman.ttf\", \"Verdana.ttf\", \"Courier New.ttf\", \"Georgia.ttf\", \"Trebuchet MS.ttf\"] # Added more common fonts\n",
        "    for i, font_name in enumerate(available_fonts):\n",
        "        print(f\"{i+1}. {font_name}\")\n",
        "\n",
        "    font_choice = input(f\"Enter the number of your choice or a path to your font file (leave blank for default - arial.ttf): \")\n",
        "\n",
        "    if font_choice.isdigit() and int(font_choice) > 0 and int(font_choice) <= len(available_fonts):\n",
        "        font_path = available_fonts[int(font_choice) - 1]\n",
        "    elif font_choice:\n",
        "        font_path = font_choice # User provided a path\n",
        "    else:\n",
        "        font_path = \"arial.ttf\" # Default font\n",
        "\n",
        "\n",
        "    font_size_input = input(\"Enter the font size (e.g., 60, leave blank for default): \")\n",
        "    if not font_size_input:\n",
        "        font_size = 60 # Default size\n",
        "    else:\n",
        "        font_size = int(font_size_input) # Convert to integer\n",
        "\n",
        "    style = input(\"Enter a style (e.g., simple, bold - basic support, leave blank for simple): \")\n",
        "    if not style:\n",
        "        style = \"simple\" # Default style\n",
        "\n",
        "    text_effect = input(\"Enter a text effect (e.g., outline, shadow, leave blank for none): \")\n",
        "\n",
        "    # Basic Shape Input (for rectangles)\n",
        "    shapes = []\n",
        "    add_shape = input(\"Add a rectangle shape? (yes/no, leave blank for no): \").lower()\n",
        "    if add_shape == \"yes\":\n",
        "        try:\n",
        "            shape_color = input(\"Enter rectangle color (e.g., red or #FF0000): \")\n",
        "            shape_x = int(input(\"Enter top-left x coordinate for rectangle: \"))\n",
        "            shape_y = int(input(\"Enter top-left y coordinate for rectangle: \"))\n",
        "            shape_width = int(input(\"Enter rectangle width: \"))\n",
        "            shape_height = int(input(\"Enter rectangle height: \"))\n",
        "            shapes.append({\"type\": \"rectangle\", \"color\": shape_color, \"position\": (shape_x, shape_y), \"size\": (shape_width, shape_height)})\n",
        "        except ValueError:\n",
        "            print(\"Invalid input for shape parameters. Skipping shape.\")\n",
        "\n",
        "\n",
        "    return logo_text, bg_color, text_color, image_path, font_path, font_size, style, background_image_path, text_effect, shapes\n",
        "\n",
        "logo_text, bg_color, text_color, image_path, font_path, font_size, style, background_image_path, text_effect, shapes = get_logo_input()\n",
        "print(f\"\\nUsing Text: {logo_text}, Background Color: {bg_color}, Text Color: {text_color}\")\n",
        "if image_path:\n",
        "    print(f\"Using Overlay Image: {image_path}\")\n",
        "else:\n",
        "    print(\"No overlay image will be used.\")\n",
        "if background_image_path:\n",
        "    print(f\"Using Background Image: {background_image_path}\")\n",
        "else:\n",
        "    print(\"Using solid background color.\")\n",
        "\n",
        "print(f\"Using Font: {font_path}, Size: {font_size}, Style: {style}\")\n",
        "if text_effect:\n",
        "    print(f\"Using Text Effect: {text_effect}\")\n",
        "else:\n",
        "    print(\"No text effect will be used.\")\n",
        "if shapes:\n",
        "    print(f\"Adding Shapes: {shapes}\")\n",
        "else:\n",
        "    print(\"No shapes will be added.\")"
      ],
      "execution_count": 3,
      "outputs": [
        {
          "output_type": "stream",
          "name": "stdout",
          "text": [
            "Enter the text for your logo: HB \n",
            "Enter the background color (e.g., #1E90FF or blue): black\n",
            "Enter the text color (e.g., white or #FFFFFF): white\n",
            "Enter the path to an overlay image file (optional, leave blank to skip): \n",
            "Enter the path to a background image file (optional, leave blank for solid color): \n",
            "\n",
            "Available Fonts (or enter a path to your font file):\n",
            "1. arial.ttf\n",
            "2. Times New Roman.ttf\n",
            "3. Verdana.ttf\n",
            "4. Courier New.ttf\n",
            "5. Georgia.ttf\n",
            "6. Trebuchet MS.ttf\n",
            "Enter the number of your choice or a path to your font file (leave blank for default - arial.ttf): 5\n",
            "Enter the font size (e.g., 60, leave blank for default): 55\n",
            "Enter a style (e.g., simple, bold - basic support, leave blank for simple): simple\n",
            "Enter a text effect (e.g., outline, shadow, leave blank for none): outline\n",
            "Add a rectangle shape? (yes/no, leave blank for no): yes\n",
            "Enter rectangle color (e.g., red or #FF0000): red\n",
            "Enter top-left x coordinate for rectangle: 40\n",
            "Enter top-left y coordinate for rectangle: 40\n",
            "Enter rectangle width: 80\n",
            "Enter rectangle height: 100\n",
            "\n",
            "Using Text: HB , Background Color: black, Text Color: white\n",
            "No overlay image will be used.\n",
            "Using solid background color.\n",
            "Using Font: Georgia.ttf, Size: 55, Style: simple\n",
            "Using Text Effect: outline\n",
            "Adding Shapes: [{'type': 'rectangle', 'color': 'red', 'position': (40, 40), 'size': (80, 100)}]\n"
          ]
        }
      ]
    }
  ]
}